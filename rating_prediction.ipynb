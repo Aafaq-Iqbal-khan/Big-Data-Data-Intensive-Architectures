{
 "cells": [
  {
   "cell_type": "markdown",
   "id": "after-handy",
   "metadata": {},
   "source": [
    "# Name: Aafaq Iqbal Khan   Student ID : x20108851"
   ]
  },
  {
   "cell_type": "code",
   "execution_count": 1,
   "id": "incorporated-confidence",
   "metadata": {},
   "outputs": [],
   "source": [
    "import findspark\n",
    "import pyspark\n",
    "#from pyspark import SparkContext\n",
    "from pyspark import SparkContext\n",
    "from pyspark.sql import SparkSession\n",
    "from pyspark.sql.types import *\n",
    "import pyspark.sql.functions as f\n",
    "from pyspark.sql.functions import *\n",
    "from pyspark.ml.feature import Tokenizer, StopWordsRemover\n",
    "from pyspark import HiveContext\n",
    "from pyspark.ml.feature import HashingTF\n",
    "from pyspark.ml.feature import VectorAssembler\n",
    "\n",
    "from pyspark.ml.classification import LogisticRegression\n",
    "\n",
    "\n",
    "\n",
    "import seaborn as sns\n",
    "import pandas as pd\n",
    "import re\n",
    "import matplotlib.pyplot as plt\n",
    "\n",
    "from pyspark.ml import Pipeline"
   ]
  },
  {
   "cell_type": "code",
   "execution_count": 4,
   "id": "polar-rough",
   "metadata": {},
   "outputs": [],
   "source": [
    "import pyspark\n",
    "import time\n",
    "from pyspark.sql import Row"
   ]
  },
  {
   "cell_type": "code",
   "execution_count": 2,
   "id": "vertical-plaza",
   "metadata": {},
   "outputs": [],
   "source": [
    "#SparkSession.stop(spark)\n",
    "spark=SparkSession.builder.master(\"local\").appName(\"first\").getOrCreate()"
   ]
  },
  {
   "cell_type": "code",
   "execution_count": 3,
   "id": "stunning-shelter",
   "metadata": {},
   "outputs": [
    {
     "name": "stdout",
     "output_type": "stream",
     "text": [
      "1 \n",
      "4 \n",
      "9 \n",
      "16 \n"
     ]
    }
   ],
   "source": [
    "#Just for chechking\n",
    "sc = spark.sparkContext\n",
    "nums = sc.parallelize([1, 2, 3, 4])\n",
    "squared = nums.map(lambda x: x * x).collect()\n",
    "for num in squared:\n",
    "    print(\"%i \" % (num))"
   ]
  },
  {
   "cell_type": "markdown",
   "id": "limited-button",
   "metadata": {},
   "source": [
    "# Load Data from HDFS"
   ]
  },
  {
   "cell_type": "code",
   "execution_count": 28,
   "id": "posted-rhythm",
   "metadata": {},
   "outputs": [],
   "source": [
    "df_listing_details = spark.read.csv(\"/user/hduser/projectData/DIAdata/restaurants_data_from_tripadvisor3.csv\", header=True, inferSchema=True, sep=',')\n",
    "\n",
    "#df_listing_details = spark.read.csv(\"hdfs://localhost:54310/projectData/DIAdata/restaurants_data_from_tripadvisor3.csv\", header=True, sep=',', inferSchema=True)\n"
   ]
  },
  {
   "cell_type": "code",
   "execution_count": 81,
   "id": "joint-occurrence",
   "metadata": {},
   "outputs": [
    {
     "name": "stdout",
     "output_type": "stream",
     "text": [
      "+---+---------+--------------------+------+--------+------------+------+-------+-----------+------+--------------------+-------------+--------+-------+---------------+----------+-----------+--------+-------------+--------------+--------------------+----+-----------------+-------------+--------------------+--------------------+--------------------+--------------------+--------------------+\n",
      "|_c0|    ID_TA|                name|closed|inactive|name_changed|rating|claimed|primary_cus|  city|            cuisines|special_diets| pricing|   rank|city_rest_count|is_website|photo_count|is_video|cus_rest_rank|cus_rest_count|             address|mail|              tel|review_number|             reviews|        review_dates|      review_ratings|            orig_url|              URL_TA|\n",
      "+---+---------+--------------------+------+--------+------------+------+-------+-----------+------+--------------------+-------------+--------+-------+---------------+----------+-----------+--------+-------------+--------------+--------------------+----+-----------------+-------------+--------------------+--------------------+--------------------+--------------------+--------------------+\n",
      "|  0| d9328394|        Pizza School|   0.0|       0|           0|   4.0|    0.0|    Unknown| Seoul|                null|         null|    null|19149.0|        26501.0|       0.0|        0.0|     0.0|         null|          null|224, World Cup Bu...| 0.0|   +82 2-372-1988|            1|                null|   February 7, 2017 |                null|https://www.tripa...|https://www.tripa...|\n",
      "|  1| d9337164|       Pujimi Tripes|   0.0|       0|           0|   4.5|    0.0|    Unknown| Seoul|                null|         null|    null| 4600.0|        26501.0|       0.0|        0.0|     0.0|         null|          null|23, cheonhoyet14-...| 0.0|             null|            3|                null|November 12, 2019...|                null|https://www.tripa...|https://www.tripa...|\n",
      "|  2| d8956216|             Bangung|   0.0|       0|           0|   4.5|    0.0|    Unknown| Seoul|                null|         null|    null| 2766.0|        26501.0|       0.0|        1.0|     0.0|         null|          null|17, Gangseo-ro56-...| 0.0|             null|            5|                null|February 26, 2020...|                null|https://www.tripa...|https://www.tripa...|\n",
      "|  3| d9335213|Donsoobaek - Gang...|   0.0|       0|           0|   4.5|    0.0|      Asian| Seoul|       Asian, Korean|         null|    null| 1655.0|        26501.0|       1.0|        4.0|     0.0|        659.0|        3565.0|13, Gangnam-daero...| 0.0|   +82 2-539-3132|            7|Nothing special, ...|   February 1, 2018 |                null|https://www.tripa...|https://www.tripa...|\n",
      "|  4| d9334370|           Pork Mo U|   0.0|       0|           0|   4.0|    0.0|    Unknown| Seoul|                null|         null|    null|18486.0|        26501.0|       0.0|        0.0|     0.0|         null|          null|26, Nohae-ro69-Gi...| 0.0|             null|            1|                null|   October 27, 2017 |                null|https://www.tripa...|https://www.tripa...|\n",
      "|  5| d8924669|          Bogeulring|   0.0|       0|           0|   2.0|    0.0|    Unknown| Seoul|                null|         null|    null|26335.0|        26501.0|       0.0|        0.0|     0.0|         null|          null|14, Gangnam-daero...| 0.0|   +82 2-567-9991|            2|                null|June 6, 2019 ,Nov...|                null|https://www.tripa...|https://www.tripa...|\n",
      "|  6| d9327149|           Pizza Hut|   0.0|       0|           0|   4.0|    0.0|    Unknown| Seoul|                null|         null|    null|11917.0|        26501.0|       0.0|        0.0|     0.0|         null|          null|243, Changgyeongg...| 0.0|   +82 2-744-5581|            2|                null|May 8, 2018 ,Augu...|                null|https://www.tripa...|https://www.tripa...|\n",
      "|  7| d8925821| Bokjeong Restaurant|   0.0|       0|           0|   3.5|    0.0|    Unknown| Seoul|                null|         null|    null|18544.0|        26501.0|       0.0|        0.0|     0.0|         null|          null|76, Samcheong-Ro,...| 0.0|             null|            3|                null|July 30, 2019 ,Fe...|                null|https://www.tripa...|https://www.tripa...|\n",
      "|  8| d9366191|Palri Hyang Lamb ...|   0.0|       0|           0|   5.0|    0.0|    Unknown| Seoul|                null|         null|    null|11879.0|        26501.0|       0.0|        0.0|     0.0|         null|          null|21, Dasan-ro35-Gi...| 0.0|             null|            1|                null|  November 22, 2017 |                null|https://www.tripa...|https://www.tripa...|\n",
      "|  9| d8929693|   . Com Street Food|   0.0|       0|           0|   4.0|    0.0|    Unknown| Seoul|                null|         null|    null| 5302.0|        26501.0|       0.0|        0.0|     0.0|         null|          null|20-6, Nambusunhwa...| 0.0|  +82 2-2616-4048|            4|                null|May 12, 2019 ,Feb...|                null|https://www.tripa...|https://www.tripa...|\n",
      "| 10| d8946024|Arirang Ox Bone S...|   0.0|       0|           0|   5.0|    0.0|    Unknown| Seoul|                null|         null|    null|11637.0|        26501.0|       0.0|        0.0|     0.0|         null|          null|25, Seongsuil-ro4...| 0.0|             null|            1|                null|  December 10, 2017 |                null|https://www.tripa...|https://www.tripa...|\n",
      "| 11| d8937114|           Alba Isin|   0.0|       0|           0|   4.0|    0.0|    Unknown| Seoul|                null|         null|    null|20738.0|        26501.0|       0.0|        0.0|     0.0|         null|          null|44, Hongik-ro6-Gi...| 0.0|             null|            1|                null|     April 21, 2016 |5,4.5,4.5,3.5,4.5...|https://www.tripa...|https://www.tripa...|\n",
      "| 12| d8930631|    2.5 Chicken Ribs|   0.0|       0|           0|   5.0|    0.0|    Unknown| Seoul|                null|         null|    null| 7077.0|        26501.0|       0.0|        3.0|     0.0|         null|          null|41, Toegye-ro56-G...| 0.0|             null|            2|                null|February 7, 2017 ...|                null|https://www.tripa...|https://www.tripa...|\n",
      "| 13| d8937082|          Al Village|   0.0|       0|           0|   4.0|    0.0|    Unknown| Seoul|                null|         null|    null| 8965.0|        26501.0|       0.0|        0.0|     0.0|         null|          null|20, Inchon-ro27-G...| 0.0|             null|            3|                null|November 27, 2017...|                null|https://www.tripa...|https://www.tripa...|\n",
      "| 14|d15101820|           The Piola|   0.0|       0|           0|   4.0|    0.0|    Unknown| Seoul|                Cafe|         null|    null|   null|           null|       1.0|        3.0|     0.0|         null|          null|209, Jangchungdan...| 1.0|  +82 2-2272-8808|            2|                null|July 18, 2019 ,Se...|                null|https://www.tripa...|https://www.tripa...|\n",
      "| 15|d11804743|Hanyukgam - Gwang...|   0.0|       0|           0|   4.5|    0.0|    Unknown| Seoul|                null|         null|    null| 1251.0|        26501.0|       1.0|        2.0|     0.0|         null|          null|17, Jong-ro 3-gil...| 0.0|  +82 2-2251-8686|           12|                null|February 6, 2020 ...|4.5,4.5,3.5,4,4.5...|https://www.tripa...|https://www.tripa...|\n",
      "| 16| d8918426|Bi and Di Seute I...|   0.0|       0|           0|   4.0|    0.0|    Unknown| Seoul|                null|         null|    null|18228.0|        26501.0|       0.0|        0.0|     0.0|         null|          null|37, Ehwayeodae-Gi...| 0.0|             null|            1|                null|  November 25, 2017 |                null|https://www.tripa...|https://www.tripa...|\n",
      "| 17|d11804746|Juyu Byeoljang D-...|   0.0|       0|           0|   3.5|    0.0|    Unknown| Seoul|                null|         null|    null| 5693.0|        26501.0|       0.0|        1.0|     0.0|         null|          null|17, Jong-ro 3-gil...| 0.0|  +82 2-2251-8484|            6|                null|February 20, 2019...|                null|https://www.tripa...|https://www.tripa...|\n",
      "| 18|d16852952|Bar Restaurant Le 17|   0.0|       0|           0|   2.5|    1.0|     French| Paris|French, Mediterra...|         null|$$ - $$$|14447.0|        15442.0|       1.0|        8.0|     0.0|       6631.0|        6971.0|10 rue Bernard Bu...| 1.0|+33 1 40 25 20 20|            3|We ordered a pizz...|      July 30, 2019 |3.5,2.5,4.5,2.5,4...|https://www.tripa...|https://www.tripa...|\n",
      "| 19| d5817299|        Patty Island|   0.0|       0|           0|   5.0|    0.0|    Unknown|London|                null|         null|    null|11889.0|        16980.0|       1.0|        0.0|     0.0|         null|          null|40 Camberwell Chu...| 0.0| +44 20 7701 1555|            2|The food here is ...|March 2, 2020 ,De...|4.5,2.5,2.5,4,4.5...|https://www.tripa...|https://www.tripa...|\n",
      "+---+---------+--------------------+------+--------+------------+------+-------+-----------+------+--------------------+-------------+--------+-------+---------------+----------+-----------+--------+-------------+--------------+--------------------+----+-----------------+-------------+--------------------+--------------------+--------------------+--------------------+--------------------+\n",
      "only showing top 20 rows\n",
      "\n"
     ]
    }
   ],
   "source": [
    "df_listing_details.show()"
   ]
  },
  {
   "cell_type": "markdown",
   "id": "divided-composite",
   "metadata": {},
   "source": [
    "For better view"
   ]
  },
  {
   "cell_type": "code",
   "execution_count": 172,
   "id": "cathedral-distance",
   "metadata": {},
   "outputs": [
    {
     "data": {
      "text/html": [
       "<div>\n",
       "<style scoped>\n",
       "    .dataframe tbody tr th:only-of-type {\n",
       "        vertical-align: middle;\n",
       "    }\n",
       "\n",
       "    .dataframe tbody tr th {\n",
       "        vertical-align: top;\n",
       "    }\n",
       "\n",
       "    .dataframe thead th {\n",
       "        text-align: right;\n",
       "    }\n",
       "</style>\n",
       "<table border=\"1\" class=\"dataframe\">\n",
       "  <thead>\n",
       "    <tr style=\"text-align: right;\">\n",
       "      <th></th>\n",
       "      <th>_c0</th>\n",
       "      <th>ID_TA</th>\n",
       "      <th>name</th>\n",
       "      <th>closed</th>\n",
       "      <th>inactive</th>\n",
       "      <th>name_changed</th>\n",
       "      <th>rating</th>\n",
       "      <th>claimed</th>\n",
       "      <th>primary_cus</th>\n",
       "      <th>city</th>\n",
       "      <th>...</th>\n",
       "      <th>cus_rest_count</th>\n",
       "      <th>address</th>\n",
       "      <th>mail</th>\n",
       "      <th>tel</th>\n",
       "      <th>review_number</th>\n",
       "      <th>reviews</th>\n",
       "      <th>review_dates</th>\n",
       "      <th>review_ratings</th>\n",
       "      <th>orig_url</th>\n",
       "      <th>URL_TA</th>\n",
       "    </tr>\n",
       "  </thead>\n",
       "  <tbody>\n",
       "    <tr>\n",
       "      <th>0</th>\n",
       "      <td>0</td>\n",
       "      <td>d9328394</td>\n",
       "      <td>Pizza School</td>\n",
       "      <td>0.0</td>\n",
       "      <td>0</td>\n",
       "      <td>0</td>\n",
       "      <td>4.0</td>\n",
       "      <td>0.0</td>\n",
       "      <td>Unknown</td>\n",
       "      <td>Seoul</td>\n",
       "      <td>...</td>\n",
       "      <td>None</td>\n",
       "      <td>224, World Cup Buk-Ro, Seoul South Korea</td>\n",
       "      <td>0.0</td>\n",
       "      <td>+82 2-372-1988</td>\n",
       "      <td>1</td>\n",
       "      <td>None</td>\n",
       "      <td>February 7, 2017</td>\n",
       "      <td>None</td>\n",
       "      <td>https://www.tripadvisor.com/Restaurant_Review-...</td>\n",
       "      <td>https://www.tripadvisor.com/Restaurant_Review-...</td>\n",
       "    </tr>\n",
       "    <tr>\n",
       "      <th>1</th>\n",
       "      <td>1</td>\n",
       "      <td>d9337164</td>\n",
       "      <td>Pujimi Tripes</td>\n",
       "      <td>0.0</td>\n",
       "      <td>0</td>\n",
       "      <td>0</td>\n",
       "      <td>4.5</td>\n",
       "      <td>0.0</td>\n",
       "      <td>Unknown</td>\n",
       "      <td>Seoul</td>\n",
       "      <td>...</td>\n",
       "      <td>None</td>\n",
       "      <td>23, cheonhoyet14-Gil, Seoul South Korea</td>\n",
       "      <td>0.0</td>\n",
       "      <td>None</td>\n",
       "      <td>3</td>\n",
       "      <td>None</td>\n",
       "      <td>November 12, 2019 ,February 4, 2019 ,March 27,...</td>\n",
       "      <td>None</td>\n",
       "      <td>https://www.tripadvisor.com/Restaurant_Review-...</td>\n",
       "      <td>https://www.tripadvisor.com/Restaurant_Review-...</td>\n",
       "    </tr>\n",
       "    <tr>\n",
       "      <th>2</th>\n",
       "      <td>2</td>\n",
       "      <td>d8956216</td>\n",
       "      <td>Bangung</td>\n",
       "      <td>0.0</td>\n",
       "      <td>0</td>\n",
       "      <td>0</td>\n",
       "      <td>4.5</td>\n",
       "      <td>0.0</td>\n",
       "      <td>Unknown</td>\n",
       "      <td>Seoul</td>\n",
       "      <td>...</td>\n",
       "      <td>None</td>\n",
       "      <td>17, Gangseo-ro56-Gil, Seoul South Korea</td>\n",
       "      <td>0.0</td>\n",
       "      <td>None</td>\n",
       "      <td>5</td>\n",
       "      <td>None</td>\n",
       "      <td>February 26, 2020 ,January 15, 2020 ,September...</td>\n",
       "      <td>None</td>\n",
       "      <td>https://www.tripadvisor.com/Restaurant_Review-...</td>\n",
       "      <td>https://www.tripadvisor.com/Restaurant_Review-...</td>\n",
       "    </tr>\n",
       "    <tr>\n",
       "      <th>3</th>\n",
       "      <td>3</td>\n",
       "      <td>d9335213</td>\n",
       "      <td>Donsoobaek - Gangnam Station Direct Store</td>\n",
       "      <td>0.0</td>\n",
       "      <td>0</td>\n",
       "      <td>0</td>\n",
       "      <td>4.5</td>\n",
       "      <td>0.0</td>\n",
       "      <td>Asian</td>\n",
       "      <td>Seoul</td>\n",
       "      <td>...</td>\n",
       "      <td>3565.0</td>\n",
       "      <td>13, Gangnam-daero 110-gil, Gangnam-gu, Seoul 0...</td>\n",
       "      <td>0.0</td>\n",
       "      <td>+82 2-539-3132</td>\n",
       "      <td>7</td>\n",
       "      <td>Nothing special, but the stew is neat and the ...</td>\n",
       "      <td>February 1, 2018</td>\n",
       "      <td>None</td>\n",
       "      <td>https://www.tripadvisor.com/Restaurant_Review-...</td>\n",
       "      <td>https://www.tripadvisor.com/Restaurant_Review-...</td>\n",
       "    </tr>\n",
       "    <tr>\n",
       "      <th>4</th>\n",
       "      <td>4</td>\n",
       "      <td>d9334370</td>\n",
       "      <td>Pork Mo U</td>\n",
       "      <td>0.0</td>\n",
       "      <td>0</td>\n",
       "      <td>0</td>\n",
       "      <td>4.0</td>\n",
       "      <td>0.0</td>\n",
       "      <td>Unknown</td>\n",
       "      <td>Seoul</td>\n",
       "      <td>...</td>\n",
       "      <td>None</td>\n",
       "      <td>26, Nohae-ro69-Gil, Seoul South Korea</td>\n",
       "      <td>0.0</td>\n",
       "      <td>None</td>\n",
       "      <td>1</td>\n",
       "      <td>None</td>\n",
       "      <td>October 27, 2017</td>\n",
       "      <td>None</td>\n",
       "      <td>https://www.tripadvisor.com/Restaurant_Review-...</td>\n",
       "      <td>https://www.tripadvisor.com/Restaurant_Review-...</td>\n",
       "    </tr>\n",
       "  </tbody>\n",
       "</table>\n",
       "<p>5 rows × 29 columns</p>\n",
       "</div>"
      ],
      "text/plain": [
       "  _c0     ID_TA                                       name closed inactive  \\\n",
       "0   0  d9328394                               Pizza School    0.0        0   \n",
       "1   1  d9337164                              Pujimi Tripes    0.0        0   \n",
       "2   2  d8956216                                    Bangung    0.0        0   \n",
       "3   3  d9335213  Donsoobaek - Gangnam Station Direct Store    0.0        0   \n",
       "4   4  d9334370                                  Pork Mo U    0.0        0   \n",
       "\n",
       "  name_changed rating claimed primary_cus   city  ... cus_rest_count  \\\n",
       "0            0    4.0     0.0     Unknown  Seoul  ...           None   \n",
       "1            0    4.5     0.0     Unknown  Seoul  ...           None   \n",
       "2            0    4.5     0.0     Unknown  Seoul  ...           None   \n",
       "3            0    4.5     0.0       Asian  Seoul  ...         3565.0   \n",
       "4            0    4.0     0.0     Unknown  Seoul  ...           None   \n",
       "\n",
       "                                             address mail             tel  \\\n",
       "0           224, World Cup Buk-Ro, Seoul South Korea  0.0  +82 2-372-1988   \n",
       "1            23, cheonhoyet14-Gil, Seoul South Korea  0.0            None   \n",
       "2            17, Gangseo-ro56-Gil, Seoul South Korea  0.0            None   \n",
       "3  13, Gangnam-daero 110-gil, Gangnam-gu, Seoul 0...  0.0  +82 2-539-3132   \n",
       "4              26, Nohae-ro69-Gil, Seoul South Korea  0.0            None   \n",
       "\n",
       "  review_number                                            reviews  \\\n",
       "0             1                                               None   \n",
       "1             3                                               None   \n",
       "2             5                                               None   \n",
       "3             7  Nothing special, but the stew is neat and the ...   \n",
       "4             1                                               None   \n",
       "\n",
       "                                        review_dates review_ratings  \\\n",
       "0                                  February 7, 2017            None   \n",
       "1  November 12, 2019 ,February 4, 2019 ,March 27,...           None   \n",
       "2  February 26, 2020 ,January 15, 2020 ,September...           None   \n",
       "3                                  February 1, 2018            None   \n",
       "4                                  October 27, 2017            None   \n",
       "\n",
       "                                            orig_url  \\\n",
       "0  https://www.tripadvisor.com/Restaurant_Review-...   \n",
       "1  https://www.tripadvisor.com/Restaurant_Review-...   \n",
       "2  https://www.tripadvisor.com/Restaurant_Review-...   \n",
       "3  https://www.tripadvisor.com/Restaurant_Review-...   \n",
       "4  https://www.tripadvisor.com/Restaurant_Review-...   \n",
       "\n",
       "                                              URL_TA  \n",
       "0  https://www.tripadvisor.com/Restaurant_Review-...  \n",
       "1  https://www.tripadvisor.com/Restaurant_Review-...  \n",
       "2  https://www.tripadvisor.com/Restaurant_Review-...  \n",
       "3  https://www.tripadvisor.com/Restaurant_Review-...  \n",
       "4  https://www.tripadvisor.com/Restaurant_Review-...  \n",
       "\n",
       "[5 rows x 29 columns]"
      ]
     },
     "execution_count": 172,
     "metadata": {},
     "output_type": "execute_result"
    }
   ],
   "source": [
    "df_listing_details.limit(5).toPandas()"
   ]
  },
  {
   "cell_type": "markdown",
   "id": "compatible-asian",
   "metadata": {},
   "source": [
    "## Columns Selection\n",
    "Select only rating abd reviews"
   ]
  },
  {
   "cell_type": "code",
   "execution_count": 50,
   "id": "pleased-reducing",
   "metadata": {},
   "outputs": [
    {
     "name": "stdout",
     "output_type": "stream",
     "text": [
      "+------+--------------------+\n",
      "|rating|             reviews|\n",
      "+------+--------------------+\n",
      "|   4.0|                null|\n",
      "|   4.5|                null|\n",
      "|   4.5|                null|\n",
      "|   4.5|Nothing special, ...|\n",
      "|   4.0|                null|\n",
      "+------+--------------------+\n",
      "only showing top 5 rows\n",
      "\n"
     ]
    }
   ],
   "source": [
    "df=df_listing_details.select(\"rating\",\"reviews\")\n",
    "df.show(5)"
   ]
  },
  {
   "cell_type": "markdown",
   "id": "rolled-lewis",
   "metadata": {},
   "source": [
    "### Drop any missing value in reviews and ratings"
   ]
  },
  {
   "cell_type": "code",
   "execution_count": 51,
   "id": "greenhouse-hayes",
   "metadata": {},
   "outputs": [],
   "source": [
    "df = df.dropna(how='any')"
   ]
  },
  {
   "cell_type": "code",
   "execution_count": 52,
   "id": "joined-calcium",
   "metadata": {},
   "outputs": [
    {
     "name": "stdout",
     "output_type": "stream",
     "text": [
      "(43743, 2)\n"
     ]
    }
   ],
   "source": [
    "print((df.count(), len(df.columns)))"
   ]
  },
  {
   "cell_type": "code",
   "execution_count": 53,
   "id": "muslim-sender",
   "metadata": {},
   "outputs": [],
   "source": []
  },
  {
   "cell_type": "code",
   "execution_count": 54,
   "id": "supreme-charge",
   "metadata": {},
   "outputs": [],
   "source": [
    "df = df.withColumn('reviews', translate('reviews', '.', ''))\n",
    "df = df.withColumn('reviews', translate('reviews', ',', ''))\n",
    "df = df.withColumn('reviews', translate('reviews', '$', ''))"
   ]
  },
  {
   "cell_type": "markdown",
   "id": "bearing-semiconductor",
   "metadata": {},
   "source": [
    "# Text Cleaning"
   ]
  },
  {
   "cell_type": "code",
   "execution_count": 55,
   "id": "attached-rhythm",
   "metadata": {},
   "outputs": [],
   "source": [
    "\n",
    "#tokenize text (make words into an array)\n",
    "tokenizer = Tokenizer(inputCol='reviews', outputCol='reviews_token')\n",
    "df_token = tokenizer.transform(df).select('*')\n",
    "\n",
    "#remove basic words\n",
    "remover = StopWordsRemover(inputCol='reviews_token', outputCol='reviews_clean')\n",
    "df_stop=remover.transform(df_token).select('*')"
   ]
  },
  {
   "cell_type": "code",
   "execution_count": 56,
   "id": "expected-intro",
   "metadata": {},
   "outputs": [
    {
     "name": "stdout",
     "output_type": "stream",
     "text": [
      "+------+--------------------+\n",
      "|rating|       reviews_clean|\n",
      "+------+--------------------+\n",
      "|   4.5|[nothing, special...|\n",
      "|   2.5|[ordered, pizza, ...|\n",
      "|   5.0|[food, exquisite,...|\n",
      "|   4.5|[used, cafe, past...|\n",
      "|   4.5|[locals, italians...|\n",
      "+------+--------------------+\n",
      "only showing top 5 rows\n",
      "\n"
     ]
    }
   ],
   "source": [
    "df_stop=df_stop.drop(\"reviews\",\"reviews_token\")\n",
    "df_stop.show(5)"
   ]
  },
  {
   "cell_type": "code",
   "execution_count": 37,
   "id": "strategic-pharmaceutical",
   "metadata": {},
   "outputs": [
    {
     "name": "stdout",
     "output_type": "stream",
     "text": [
      "root\n",
      " |-- rating: string (nullable = true)\n",
      " |-- reviews_clean: array (nullable = true)\n",
      " |    |-- element: string (containsNull = true)\n",
      "\n"
     ]
    }
   ],
   "source": [
    "df_stop.printSchema()"
   ]
  },
  {
   "cell_type": "markdown",
   "id": "linear-banks",
   "metadata": {},
   "source": [
    "#### Select only those rows that have numbers in ratings"
   ]
  },
  {
   "cell_type": "code",
   "execution_count": 57,
   "id": "passive-engagement",
   "metadata": {},
   "outputs": [],
   "source": [
    "df_clean=df_stop.where((f.col('rating')=='1.0') | (f.col('rating')=='1.5') | (f.col('rating')=='2.0') | (f.col('rating')=='2.5') | (f.col('rating')=='3.0') | (f.col('rating')=='3.5') | (f.col('rating')=='4.0') | (f.col('rating')=='4.5') | (f.col('rating')=='5.0'))"
   ]
  },
  {
   "cell_type": "code",
   "execution_count": 58,
   "id": "french-truth",
   "metadata": {},
   "outputs": [
    {
     "name": "stdout",
     "output_type": "stream",
     "text": [
      "(42835, 2)\n"
     ]
    }
   ],
   "source": [
    "print((df_clean.count(), len(df_clean.columns)))"
   ]
  },
  {
   "cell_type": "code",
   "execution_count": 44,
   "id": "funny-carol",
   "metadata": {},
   "outputs": [
    {
     "name": "stdout",
     "output_type": "stream",
     "text": [
      "+------+\n",
      "|rating|\n",
      "+------+\n",
      "|   3.5|\n",
      "|   5.0|\n",
      "|   2.5|\n",
      "|   2.5|\n",
      "|   4.0|\n",
      "|   4.5|\n",
      "|   3.5|\n",
      "|   3.5|\n",
      "|   4.5|\n",
      "|   4.0|\n",
      "|   3.5|\n",
      "|   5.0|\n",
      "|   4.5|\n",
      "|   3.5|\n",
      "|   5.0|\n",
      "|   4.5|\n",
      "|   5.0|\n",
      "|   2.5|\n",
      "|   4.5|\n",
      "|   5.0|\n",
      "+------+\n",
      "only showing top 20 rows\n",
      "\n"
     ]
    }
   ],
   "source": [
    "df_clean.distinct().select('rating').show(5)"
   ]
  },
  {
   "cell_type": "markdown",
   "id": "dated-aruba",
   "metadata": {},
   "source": [
    "#### Convert string datatype of rating into float"
   ]
  },
  {
   "cell_type": "code",
   "execution_count": 59,
   "id": "organic-compensation",
   "metadata": {},
   "outputs": [
    {
     "name": "stdout",
     "output_type": "stream",
     "text": [
      "root\n",
      " |-- rating: float (nullable = true)\n",
      " |-- reviews_clean: array (nullable = true)\n",
      " |    |-- element: string (containsNull = true)\n",
      "\n"
     ]
    }
   ],
   "source": [
    "df_clean=df_clean.withColumn('rating',df_clean['rating'].cast(\"float\").alias('rating'))\n",
    "df_clean.printSchema()"
   ]
  },
  {
   "cell_type": "code",
   "execution_count": null,
   "id": "surrounded-mobility",
   "metadata": {},
   "outputs": [],
   "source": []
  },
  {
   "cell_type": "code",
   "execution_count": 60,
   "id": "possible-lithuania",
   "metadata": {},
   "outputs": [
    {
     "name": "stdout",
     "output_type": "stream",
     "text": [
      "+------+--------------------+\n",
      "|rating|       reviews_clean|\n",
      "+------+--------------------+\n",
      "|   4.5|[nothing, special...|\n",
      "|   2.5|[ordered, pizza, ...|\n",
      "|   5.0|[food, exquisite,...|\n",
      "|   4.5|[used, cafe, past...|\n",
      "|   4.5|[locals, italians...|\n",
      "|   3.5|[eaten, probably,...|\n",
      "|   4.0|[little, charming...|\n",
      "|   3.5|[cold, rainy, eve...|\n",
      "|   4.0|[took, wife, visi...|\n",
      "|   4.5|[love, place, whe...|\n",
      "|   4.0|[went, traveling,...|\n",
      "|   3.5|[\"love, calabresa...|\n",
      "|   5.0|[cyc+cg, (, 18110...|\n",
      "|   4.0|[pourtoi, situate...|\n",
      "|   5.0|[best, thai, food...|\n",
      "|   4.5|[first, reviewed,...|\n",
      "|   5.0|[moon, hyang, res...|\n",
      "|   3.5|[located, middle,...|\n",
      "|   4.0|[twosome, cafe, c...|\n",
      "|   3.5|[original, chicke...|\n",
      "+------+--------------------+\n",
      "only showing top 20 rows\n",
      "\n"
     ]
    }
   ],
   "source": [
    "df_clean.show()"
   ]
  },
  {
   "cell_type": "markdown",
   "id": "successful-vienna",
   "metadata": {},
   "source": [
    "Convert spark dataframe into pandas dataframe just to see the distribution.\n",
    "\n",
    "For modeling we will use spark dataframe"
   ]
  },
  {
   "cell_type": "code",
   "execution_count": 82,
   "id": "employed-control",
   "metadata": {},
   "outputs": [
    {
     "data": {
      "text/plain": [
       "Text(0.5, 1.0, 'Count of Ratings')"
      ]
     },
     "execution_count": 82,
     "metadata": {},
     "output_type": "execute_result"
    },
    {
     "data": {
      "image/png": "[encoded data removed]",
      "text/plain": [
       "<Figure size 432x288 with 1 Axes>"
      ]
     },
     "metadata": {
      "needs_background": "light"
     },
     "output_type": "display_data"
    }
   ],
   "source": [
    "df_pd=df_clean.toPandas()\n",
    "\n",
    "df_pd.rating.value_counts().plot(kind='bar')\n",
    "plt.xlabel('Rating')\n",
    "plt.ylabel('Number of Reviews')\n",
    "plt.title(\"Count of Ratings\")\n"
   ]
  },
  {
   "cell_type": "code",
   "execution_count": null,
   "id": "agreed-writing",
   "metadata": {},
   "outputs": [],
   "source": []
  },
  {
   "cell_type": "markdown",
   "id": "chinese-michigan",
   "metadata": {},
   "source": [
    "# Classfication Model "
   ]
  },
  {
   "cell_type": "code",
   "execution_count": 63,
   "id": "middle-sailing",
   "metadata": {},
   "outputs": [
    {
     "name": "stdout",
     "output_type": "stream",
     "text": [
      "+------+--------------------+--------------------+\n",
      "|rating|       reviews_clean|    reviews_features|\n",
      "+------+--------------------+--------------------+\n",
      "|   4.5|[nothing, special...|(262144,[20575,22...|\n",
      "|   2.5|[ordered, pizza, ...|(262144,[22346,47...|\n",
      "+------+--------------------+--------------------+\n",
      "only showing top 2 rows\n",
      "\n"
     ]
    }
   ],
   "source": [
    "hiveContext = HiveContext(sc)\n",
    "\n",
    "#df.show(truncate = False)\n",
    "# Get term frequency vector through HashingTF\n",
    "\n",
    "ht = HashingTF(inputCol=\"reviews_clean\", outputCol=\"reviews_features\")\n",
    "result = ht.transform(df_clean)\n",
    "result.show(2)\n",
    "\n"
   ]
  },
  {
   "cell_type": "code",
   "execution_count": 64,
   "id": "digital-makeup",
   "metadata": {},
   "outputs": [],
   "source": [
    "result=result.drop(\"reviews_clean\")"
   ]
  },
  {
   "cell_type": "code",
   "execution_count": 65,
   "id": "developing-ability",
   "metadata": {},
   "outputs": [],
   "source": [
    "df_sp = result.withColumn('rating', when(result.rating >= 2.5,1).otherwise(0))"
   ]
  },
  {
   "cell_type": "code",
   "execution_count": 67,
   "id": "surgical-brass",
   "metadata": {},
   "outputs": [],
   "source": [
    "\n",
    "df_vector = VectorAssembler(inputCols=['reviews_features'],\n",
    "                                          outputCol='features')\n",
    "df_vector = df_vector.transform(df_sp)"
   ]
  },
  {
   "cell_type": "markdown",
   "id": "united-batman",
   "metadata": {},
   "source": [
    "#### Train Test Split"
   ]
  },
  {
   "cell_type": "code",
   "execution_count": 68,
   "id": "greek-chicken",
   "metadata": {},
   "outputs": [],
   "source": [
    "#Train Test Split\n",
    "seed = 314\n",
    "train_test = [0.8, 0.2]\n",
    "\n",
    "\n",
    "data_set = df_vector.select(['features','rating'])\n",
    "train_df, test_df = data_set.randomSplit(train_test, seed)\n",
    "\n"
   ]
  },
  {
   "cell_type": "markdown",
   "id": "architectural-garden",
   "metadata": {},
   "source": [
    "### Logistic Regression Model"
   ]
  },
  {
   "cell_type": "code",
   "execution_count": 71,
   "id": "representative-asset",
   "metadata": {},
   "outputs": [],
   "source": [
    "\n",
    "# Train Logistic Regression Model\n",
    "log_R = LogisticRegression(labelCol = 'rating').fit(train_df)\n"
   ]
  },
  {
   "cell_type": "markdown",
   "id": "assumed-revolution",
   "metadata": {},
   "source": [
    "#### Prediction on unseen data"
   ]
  },
  {
   "cell_type": "code",
   "execution_count": 72,
   "id": "defined-tragedy",
   "metadata": {},
   "outputs": [
    {
     "name": "stdout",
     "output_type": "stream",
     "text": [
      "+--------------------+------+--------------------+--------------------+----------+\n",
      "|            features|rating|       rawPrediction|         probability|prediction|\n",
      "+--------------------+------+--------------------+--------------------+----------+\n",
      "|(262144,[0,3763,4...|     1|[-682.06447050716...|[6.06965709714188...|       1.0|\n",
      "|(262144,[4,1097,1...|     1|[-1499.7997182521...|           [0.0,1.0]|       1.0|\n",
      "|(262144,[5,2296,5...|     1|[-1064.2265884557...|           [0.0,1.0]|       1.0|\n",
      "+--------------------+------+--------------------+--------------------+----------+\n",
      "only showing top 3 rows\n",
      "\n"
     ]
    }
   ],
   "source": [
    "test_result = log_R.evaluate(test_df).predictions\n",
    "test_result.show(3)"
   ]
  },
  {
   "cell_type": "markdown",
   "id": "documentary-vacuum",
   "metadata": {},
   "source": [
    "# Evaluation"
   ]
  },
  {
   "cell_type": "code",
   "execution_count": 74,
   "id": "opponent-bangladesh",
   "metadata": {},
   "outputs": [
    {
     "name": "stdout",
     "output_type": "stream",
     "text": [
      "test accuracy is : 0.974119\n"
     ]
    }
   ],
   "source": [
    "# Accuracy computation\n",
    "\n",
    "tp = test_result[(test_result.rating == 1) & (test_result.prediction == 1)].count()\n",
    "tn = test_result[(test_result.rating == 0) & (test_result.prediction == 1)].count()\n",
    "fp = test_result[(test_result.rating == 0) & (test_result.prediction == 1)].count()\n",
    "fn = test_result[(test_result.rating == 1) & (test_result.prediction == 0)].count()\n",
    "\n",
    "print('test accuracy is : %f'%((tp+tn)/(tp+tn+fp+fn)))"
   ]
  },
  {
   "cell_type": "code",
   "execution_count": 75,
   "id": "correct-istanbul",
   "metadata": {},
   "outputs": [
    {
     "name": "stdout",
     "output_type": "stream",
     "text": [
      "test recall is : 0.989754\n",
      "test precision is : 0.983614\n"
     ]
    }
   ],
   "source": [
    "# Recall and Precision\n",
    "\n",
    "print('test recall is : %f'%(tp/(tp+fn)))\n",
    "print('test precision is : %f'%(tp/(tp+fp)))"
   ]
  },
  {
   "cell_type": "code",
   "execution_count": 76,
   "id": "constitutional-pencil",
   "metadata": {},
   "outputs": [
    {
     "name": "stdout",
     "output_type": "stream",
     "text": [
      "F1 score: 0.987\n"
     ]
    }
   ],
   "source": [
    "# F1 score\n",
    "\n",
    "recall = tp/(tp+fn)\n",
    "precision = tp/(tp+fp)\n",
    "\n",
    "F1 =  2 * (precision*recall) / (precision + recall)\n",
    "print('F1 score: %0.3f' % F1)"
   ]
  }
 ],
 "metadata": {
  "kernelspec": {
   "display_name": "Python 3",
   "language": "python",
   "name": "python3"
  },
  "language_info": {
   "codemirror_mode": {
    "name": "ipython",
    "version": 3
   },
   "file_extension": ".py",
   "mimetype": "text/x-python",
   "name": "python",
   "nbconvert_exporter": "python",
   "pygments_lexer": "ipython3",
   "version": "3.6.9"
  }
 },
 "nbformat": 4,
 "nbformat_minor": 5
}
