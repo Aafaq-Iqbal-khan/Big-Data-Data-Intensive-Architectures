{
 "cells": [
  {
   "cell_type": "markdown",
   "id": "removed-cursor",
   "metadata": {},
   "source": [
    "# Student ID X20108851"
   ]
  },
  {
   "cell_type": "code",
   "execution_count": 23,
   "id": "wooden-courtesy",
   "metadata": {},
   "outputs": [],
   "source": [
    "import findspark\n",
    "import pyspark\n",
    "#from pyspark import SparkContext\n",
    "from pyspark import SparkContext\n",
    "from pyspark.sql import SparkSession\n",
    "\n",
    "import seaborn as sns\n",
    "import re\n",
    "import matplotlib.pyplot as plt\n",
    "import wordcloud\n",
    "from wordcloud import WordCloud, ImageColorGenerator\n",
    "from textblob import TextBlob"
   ]
  },
  {
   "cell_type": "code",
   "execution_count": 24,
   "id": "sublime-animal",
   "metadata": {},
   "outputs": [],
   "source": [
    "import pyspark\n",
    "import time\n",
    "from pyspark.sql import Row"
   ]
  },
  {
   "cell_type": "markdown",
   "id": "fuzzy-accessory",
   "metadata": {},
   "source": [
    "# Create Spark Session"
   ]
  },
  {
   "cell_type": "code",
   "execution_count": 25,
   "id": "descending-bicycle",
   "metadata": {},
   "outputs": [],
   "source": [
    "#SparkSession.stop(spark)\n",
    "spark=SparkSession.builder.master(\"local\").appName(\"first\").getOrCreate()"
   ]
  },
  {
   "cell_type": "code",
   "execution_count": 26,
   "id": "actual-knife",
   "metadata": {},
   "outputs": [
    {
     "name": "stdout",
     "output_type": "stream",
     "text": [
      "1 \n",
      "4 \n",
      "9 \n",
      "16 \n"
     ]
    }
   ],
   "source": [
    "sc = spark.sparkContext\n",
    "nums = sc.parallelize([1, 2, 3, 4])\n",
    "squared = nums.map(lambda x: x * x).collect()\n",
    "for num in squared:\n",
    "    print(\"%i \" % (num))"
   ]
  },
  {
   "cell_type": "markdown",
   "id": "soviet-spoke",
   "metadata": {},
   "source": [
    "# Load Data"
   ]
  },
  {
   "cell_type": "code",
   "execution_count": 27,
   "id": "occasional-session",
   "metadata": {},
   "outputs": [
    {
     "name": "stdout",
     "output_type": "stream",
     "text": [
      "0.3609459400177002  Seconds\n"
     ]
    }
   ],
   "source": [
    "\n",
    "time1 = time.time()\n",
    "\n",
    "data=sc.textFile(\"/user/hduser/projectData/DIAdata/FlumeData_*\")\n",
    "\n",
    "time2 = time.time()\n",
    "print(time2 - time1, ' Seconds')"
   ]
  },
  {
   "cell_type": "markdown",
   "id": "original-commonwealth",
   "metadata": {},
   "source": [
    "# Tweets data pre-processing"
   ]
  },
  {
   "cell_type": "code",
   "execution_count": 28,
   "id": "close-shore",
   "metadata": {},
   "outputs": [],
   "source": [
    "time3 = time.time()"
   ]
  },
  {
   "cell_type": "code",
   "execution_count": 29,
   "id": "capable-estonia",
   "metadata": {},
   "outputs": [],
   "source": [
    "#Split the Data\n",
    "data_split=data.flatMap(lambda x:x.split(\" \"))"
   ]
  },
  {
   "cell_type": "code",
   "execution_count": 30,
   "id": "indian-framing",
   "metadata": {},
   "outputs": [],
   "source": [
    "#Filter only the hashtags from the data.\n",
    "hashtags=data_split.filter(lambda x:\"#\" in x)\n",
    "\n",
    "#Assign a tuple value of key-value pair(x,1) to all elements to calculate number of similar tweets.\n",
    "tweet=hashtags.map(lambda x:(x,1))"
   ]
  },
  {
   "cell_type": "code",
   "execution_count": 31,
   "id": "photographic-breed",
   "metadata": {},
   "outputs": [],
   "source": [
    "#Since RDD has a tuple of key-value pair =(tweet,1) , add all the values with similar keys.\n",
    "add=tweet.reduceByKey(lambda x,y:x+y)\n",
    "\n",
    "#set the count in the decreasing order to retrieve only the most popular tweets.\n",
    "list=add.map(lambda x:(x[1],x[0]))\n"
   ]
  },
  {
   "cell_type": "code",
   "execution_count": 32,
   "id": "hybrid-helping",
   "metadata": {},
   "outputs": [
    {
     "name": "stdout",
     "output_type": "stream",
     "text": [
      "0.6165299415588379  Seconds\n"
     ]
    }
   ],
   "source": [
    "time4 = time.time()\n",
    "print(time4 - time3, ' Seconds')"
   ]
  },
  {
   "cell_type": "code",
   "execution_count": 33,
   "id": "adjacent-hampton",
   "metadata": {},
   "outputs": [],
   "source": [
    "desc=list.sortByKey(ascending=False)\n",
    "\n",
    "#Now the RDD has a key-value pair of key as tweet with value of total counts.\n",
    "#create a Dataframe to run queries\n",
    "df=desc.map(lambda x:Row(tweet_count=x[0],tweet=x[1]))\n"
   ]
  },
  {
   "cell_type": "code",
   "execution_count": 34,
   "id": "secure-reputation",
   "metadata": {},
   "outputs": [],
   "source": [
    "df=df.toDF()"
   ]
  },
  {
   "cell_type": "code",
   "execution_count": null,
   "id": "hispanic-effectiveness",
   "metadata": {},
   "outputs": [],
   "source": []
  },
  {
   "cell_type": "code",
   "execution_count": 35,
   "id": "selective-creation",
   "metadata": {},
   "outputs": [
    {
     "data": {
      "text/plain": [
       "Row(tweet_count=1880, tweet='#Travala')"
      ]
     },
     "execution_count": 35,
     "metadata": {},
     "output_type": "execute_result"
    }
   ],
   "source": [
    "df.head()"
   ]
  },
  {
   "cell_type": "markdown",
   "id": "personalized-webcam",
   "metadata": {},
   "source": [
    "# SQL Queries"
   ]
  },
  {
   "cell_type": "code",
   "execution_count": 36,
   "id": "technical-insider",
   "metadata": {},
   "outputs": [],
   "source": [
    "#register the dataframe as a View table to run SQL queries\n",
    "df.createOrReplaceTempView('table')\n",
    "\n",
    "#now query the data using sparkSQL\n",
    "query=spark.sql(\"SELECT * FROM table limit 15\")\n"
   ]
  },
  {
   "cell_type": "code",
   "execution_count": 37,
   "id": "wooden-original",
   "metadata": {},
   "outputs": [
    {
     "name": "stdout",
     "output_type": "stream",
     "text": [
      "+-----------+--------------------+\n",
      "|tweet_count|               tweet|\n",
      "+-----------+--------------------+\n",
      "|       1880|            #Travala|\n",
      "|       1760|             #travel|\n",
      "|       1760|         #FrizeMedia|\n",
      "|       1440|href=\\\"http://twi...|\n",
      "|       1320|           \\n\\n#DOGE|\n",
      "|       1220|#TeacherAppreciat...|\n",
      "|       1160|#MizzouMade\",\"cre...|\n",
      "|        980|              #wileg|\n",
      "|        980|             #Travel|\n",
      "|        640|            #tourism|\n",
      "|        580|             #9Today|\n",
      "|        580|#9Today\",\"created...|\n",
      "|        540|#BTC\",\"created_at...|\n",
      "|        540|  #travelphotography|\n",
      "|        540|                #BNB|\n",
      "+-----------+--------------------+\n",
      "\n"
     ]
    }
   ],
   "source": [
    "query.show()"
   ]
  },
  {
   "cell_type": "code",
   "execution_count": 38,
   "id": "orange-simpson",
   "metadata": {},
   "outputs": [
    {
     "name": "stdout",
     "output_type": "stream",
     "text": [
      "13.192201375961304  Seconds\n"
     ]
    }
   ],
   "source": [
    "time5 = time.time()\n",
    "print(time5 - time4, ' Seconds')"
   ]
  },
  {
   "cell_type": "markdown",
   "id": "earned-wiring",
   "metadata": {},
   "source": [
    "now there might be few incorrect hastags in the table , so retreive only the proper tweets"
   ]
  },
  {
   "cell_type": "code",
   "execution_count": 39,
   "id": "ambient-quarter",
   "metadata": {},
   "outputs": [],
   "source": [
    "\n",
    "result=spark.sql(\"SELECT * FROM table WHERE table.tweet LIKE '#%'\")\n",
    "\n"
   ]
  },
  {
   "cell_type": "code",
   "execution_count": 40,
   "id": "anonymous-toolbox",
   "metadata": {},
   "outputs": [
    {
     "name": "stdout",
     "output_type": "stream",
     "text": [
      "+-----------+--------------------+\n",
      "|tweet_count|               tweet|\n",
      "+-----------+--------------------+\n",
      "|       1880|            #Travala|\n",
      "|       1760|             #travel|\n",
      "|       1760|         #FrizeMedia|\n",
      "|       1220|#TeacherAppreciat...|\n",
      "|       1160|#MizzouMade\",\"cre...|\n",
      "|        980|              #wileg|\n",
      "|        980|             #Travel|\n",
      "|        640|            #tourism|\n",
      "|        580|             #9Today|\n",
      "|        580|#9Today\",\"created...|\n",
      "|        540|#BTC\",\"created_at...|\n",
      "|        540|  #travelphotography|\n",
      "|        540|                #BNB|\n",
      "|        460|      #travelblogger|\n",
      "|        440|                #SEO|\n",
      "|        440|            #Content|\n",
      "|        440|        #FrizeMedia.|\n",
      "|        440|        #Advertising|\n",
      "|        440|            #Founder|\n",
      "|        440|     #ThoughtLeader,|\n",
      "|        440|#InfluencerMarketing|\n",
      "|        440|      #GrowthHacking|\n",
      "|        440|#BrandAdvocacy\",\"...|\n",
      "|        440|            #Digital|\n",
      "|        440|         #Marketing.|\n",
      "|        440|  #DigitalMarketing,|\n",
      "|        440|          #Business.|\n",
      "|        420|#Nearpod.\",\"creat...|\n",
      "|        420|                   #|\n",
      "|        400|       #vacationmode|\n",
      "|        400|       #travelagency|\n",
      "|        400|         #travelgram|\n",
      "|        400|             #auspol|\n",
      "|        400|         #travelblog|\n",
      "|        380|     #DoctorStrange.|\n",
      "|        360|              #deals|\n",
      "|        320|           #newmedia|\n",
      "|        320|        #photography|\n",
      "|        300|#AmericasComeback...|\n",
      "|        300|             #Stocks|\n",
      "|        280|             #Resort|\n",
      "|        280|    #Hertz\\n🔥😯✈️🚨|\n",
      "|        280|            #Airfare|\n",
      "|        280|          #Marketing|\n",
      "|        240|               #Blog|\n",
      "|        240|             #Follow|\n",
      "|        240|             #TikTok|\n",
      "|        240|            #Vietnam|\n",
      "|        240| #affiliatemarketing|\n",
      "|        240|                #Mom|\n",
      "+-----------+--------------------+\n",
      "only showing top 50 rows\n",
      "\n"
     ]
    }
   ],
   "source": [
    "#display the results\n",
    "result.show(50) "
   ]
  },
  {
   "cell_type": "code",
   "execution_count": null,
   "id": "polished-router",
   "metadata": {},
   "outputs": [],
   "source": []
  }
 ],
 "metadata": {
  "kernelspec": {
   "display_name": "Python 3",
   "language": "python",
   "name": "python3"
  },
  "language_info": {
   "codemirror_mode": {
    "name": "ipython",
    "version": 3
   },
   "file_extension": ".py",
   "mimetype": "text/x-python",
   "name": "python",
   "nbconvert_exporter": "python",
   "pygments_lexer": "ipython3",
   "version": "3.6.9"
  }
 },
 "nbformat": 4,
 "nbformat_minor": 5
}
